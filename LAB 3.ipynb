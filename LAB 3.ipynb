{
 "cells": [
  {
   "cell_type": "code",
   "execution_count": 19,
   "metadata": {
    "collapsed": false
   },
   "outputs": [
    {
     "name": "stdout",
     "output_type": "stream",
     "text": [
      "[8, 4, 9]\n",
      "List Has a Even Number\n"
     ]
    }
   ],
   "source": [
    "l=[8,4,9]\n",
    "f=False\n",
    "print (l)\n",
    "for i in l:\n",
    "    #print(i)\n",
    "    if i % 2 == 0:\n",
    "        f=True\n",
    "        break\n",
    "if f == True:\n",
    "    print(\"List Has an Even Number\")\n",
    "else:\n",
    "    print(\"List Has an Odd Number\")\n",
    "    \n",
    "\n",
    "        "
   ]
  },
  {
   "cell_type": "code",
   "execution_count": 5,
   "metadata": {
    "collapsed": false
   },
   "outputs": [
    {
     "name": "stdout",
     "output_type": "stream",
     "text": [
      "Enter String to insert in a list\n",
      "jhvj\n",
      "Do you want to insert another String (y/n)\n",
      "n\n",
      "['jhvj']\n"
     ]
    }
   ],
   "source": [
    "a = 'y'\n",
    "list = []\n",
    "while a == 'y':\n",
    "    print(\"Enter String to insert in a list\")\n",
    "    b = input()\n",
    "    list.append(b)\n",
    "\n",
    "\n",
    "    print(\"Do you want to insert another String (y/n)\")\n",
    "    a = input()\n",
    "\n",
    "    if a == \"n\":\n",
    "        print(list)\n",
    "        break"
   ]
  },
  {
   "cell_type": "code",
   "execution_count": 31,
   "metadata": {
    "collapsed": false
   },
   "outputs": [
    {
     "name": "stdout",
     "output_type": "stream",
     "text": [
      "ENTER STRING TO INSERT IN THE LIST\n",
      "sir\n",
      "ENTER POSITION TO INSERT IN THE LIST\n",
      "2\n",
      "Do you want to insert another String (y/n)\n",
      "n\n",
      "['b', 'a', 'sir']\n"
     ]
    }
   ],
   "source": [
    "list=['b','a']\n",
    "a='y'\n",
    "while a== 'y':\n",
    "    print(\"ENTER STRING TO INSERT IN THE LIST\")\n",
    "    b=input()\n",
    "    \n",
    "    print(\"ENTER POSITION TO INSERT IN THE LIST\")\n",
    "    c=int(input())\n",
    "    \n",
    "    list.insert(c,b)\n",
    "    \n",
    "    print(\"Do you want to insert another String (y/n)\")\n",
    "    z=input()\n",
    "    if z=='n':\n",
    "        break\n",
    "print(list)"
   ]
  },
  {
   "cell_type": "code",
   "execution_count": 30,
   "metadata": {
    "collapsed": false
   },
   "outputs": [
    {
     "name": "stdout",
     "output_type": "stream",
     "text": [
      "10\n"
     ]
    }
   ],
   "source": [
    "d={\"Apple\": 3,\"Orange\":6,\"Banana\":1}\n",
    "print(sum(d.values()))\n",
    "\n"
   ]
  },
  {
   "cell_type": "code",
   "execution_count": 35,
   "metadata": {
    "collapsed": false
   },
   "outputs": [
    {
     "name": "stdout",
     "output_type": "stream",
     "text": [
      "5\n",
      "{1: 1.0, 2: 1.4142135623730951, 3: 1.7320508075688772, 4: 2.0, 5: 2.23606797749979}\n"
     ]
    }
   ],
   "source": [
    "i=int(input())\n",
    "dic = {}\n",
    "for a in range(1,i+1):\n",
    "    dic[a]=math.sqrt(a)\n",
    "print(dic)\n"
   ]
  },
  {
   "cell_type": "code",
   "execution_count": 38,
   "metadata": {
    "collapsed": false
   },
   "outputs": [
    {
     "name": "stdout",
     "output_type": "stream",
     "text": [
      "Enter the 1st Number 3\n",
      "Enter the 2nd Number 2\n",
      "Enter the operator*\n",
      "6\n"
     ]
    }
   ],
   "source": [
    "import math\n",
    "x = int(input('Enter the 1st Number '))\n",
    "y = int(input('Enter the 2nd Number '))\n",
    "op = input('Enter the operator')\n",
    "\n",
    "def add(x, y):\n",
    "    Answer = x + y\n",
    "    return Answer\n",
    "\n",
    "def sub(x, y):\n",
    "    Answer = x - y\n",
    "    return Answer\n",
    "\n",
    "def mul(x, y):\n",
    "    Answer = x * y\n",
    "    return Answer\n",
    "\n",
    "def div(x, y):\n",
    "    Answer = x / y\n",
    "    return Answer\n",
    "\n",
    "if (op==\"+\"):\n",
    "\n",
    "       print(add(x,y))\n",
    "if (op==\"-\"):\n",
    "\n",
    "       print( sub(x,y))\n",
    "if (op==\"*\"):\n",
    "\n",
    "       print(mul(x,y))\n",
    "if (op==\"/\"):\n",
    "\n",
    "       print(div(x,y))\n"
   ]
  },
  {
   "cell_type": "code",
   "execution_count": null,
   "metadata": {
    "collapsed": true
   },
   "outputs": [],
   "source": []
  }
 ],
 "metadata": {
  "kernelspec": {
   "display_name": "Python [Root]",
   "language": "python",
   "name": "Python [Root]"
  },
  "language_info": {
   "codemirror_mode": {
    "name": "ipython",
    "version": 3
   },
   "file_extension": ".py",
   "mimetype": "text/x-python",
   "name": "python",
   "nbconvert_exporter": "python",
   "pygments_lexer": "ipython3",
   "version": "3.5.2"
  }
 },
 "nbformat": 4,
 "nbformat_minor": 0
}
